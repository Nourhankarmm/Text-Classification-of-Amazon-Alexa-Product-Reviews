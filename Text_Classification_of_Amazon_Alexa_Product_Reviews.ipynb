{
  "nbformat": 4,
  "nbformat_minor": 0,
  "metadata": {
    "colab": {
      "provenance": []
    },
    "kernelspec": {
      "name": "python3",
      "display_name": "Python 3"
    },
    "language_info": {
      "name": "python"
    }
  },
  "cells": [
    {
      "cell_type": "markdown",
      "source": [
        "#Import necessary libraries\n"
      ],
      "metadata": {
        "id": "SQ7HfIowbl91"
      }
    },
    {
      "cell_type": "code",
      "source": [
        "import pandas as pd  # pandas for data manipulation (e.g., handling datasets)\n",
        "from sklearn.feature_extraction.text import CountVectorizer, TfidfVectorizer  # Tools for converting text to numerical data\n",
        "from sklearn.base import TransformerMixin  # Base class for creating custom transformers\n",
        "from sklearn.pipeline import Pipeline  # For chaining preprocessing steps and classifiers together\n",
        "import matplotlib.pyplot as plt\n",
        "import seaborn as sns"
      ],
      "metadata": {
        "id": "4xw9rPY-bmM7"
      },
      "execution_count": 1,
      "outputs": []
    },
    {
      "cell_type": "markdown",
      "source": [
        "# EDA"
      ],
      "metadata": {
        "id": "07_MTSROc2hp"
      }
    },
    {
      "cell_type": "code",
      "source": [
        "#load the data\n",
        "amazon_data =pd.read_csv(\"/content/amazon_alexa.tsv\", sep=\"\\t\")\n",
        "amazon_data.head(5)"
      ],
      "metadata": {
        "colab": {
          "base_uri": "https://localhost:8080/",
          "height": 206
        },
        "id": "DXUYn9frbmyS",
        "outputId": "880a7a11-78e7-4ead-ddb2-d90f00e407d5"
      },
      "execution_count": 2,
      "outputs": [
        {
          "output_type": "execute_result",
          "data": {
            "text/plain": [
              "   rating       date         variation  \\\n",
              "0       5  31-Jul-18  Charcoal Fabric    \n",
              "1       5  31-Jul-18  Charcoal Fabric    \n",
              "2       4  31-Jul-18    Walnut Finish    \n",
              "3       5  31-Jul-18  Charcoal Fabric    \n",
              "4       5  31-Jul-18  Charcoal Fabric    \n",
              "\n",
              "                                    verified_reviews  feedback  \n",
              "0                                      Love my Echo!         1  \n",
              "1                                          Loved it!         1  \n",
              "2  Sometimes while playing a game, you can answer...         1  \n",
              "3  I have had a lot of fun with this thing. My 4 ...         1  \n",
              "4                                              Music         1  "
            ],
            "text/html": [
              "\n",
              "  <div id=\"df-46041f48-5b87-443a-a9ae-223dd143e202\" class=\"colab-df-container\">\n",
              "    <div>\n",
              "<style scoped>\n",
              "    .dataframe tbody tr th:only-of-type {\n",
              "        vertical-align: middle;\n",
              "    }\n",
              "\n",
              "    .dataframe tbody tr th {\n",
              "        vertical-align: top;\n",
              "    }\n",
              "\n",
              "    .dataframe thead th {\n",
              "        text-align: right;\n",
              "    }\n",
              "</style>\n",
              "<table border=\"1\" class=\"dataframe\">\n",
              "  <thead>\n",
              "    <tr style=\"text-align: right;\">\n",
              "      <th></th>\n",
              "      <th>rating</th>\n",
              "      <th>date</th>\n",
              "      <th>variation</th>\n",
              "      <th>verified_reviews</th>\n",
              "      <th>feedback</th>\n",
              "    </tr>\n",
              "  </thead>\n",
              "  <tbody>\n",
              "    <tr>\n",
              "      <th>0</th>\n",
              "      <td>5</td>\n",
              "      <td>31-Jul-18</td>\n",
              "      <td>Charcoal Fabric</td>\n",
              "      <td>Love my Echo!</td>\n",
              "      <td>1</td>\n",
              "    </tr>\n",
              "    <tr>\n",
              "      <th>1</th>\n",
              "      <td>5</td>\n",
              "      <td>31-Jul-18</td>\n",
              "      <td>Charcoal Fabric</td>\n",
              "      <td>Loved it!</td>\n",
              "      <td>1</td>\n",
              "    </tr>\n",
              "    <tr>\n",
              "      <th>2</th>\n",
              "      <td>4</td>\n",
              "      <td>31-Jul-18</td>\n",
              "      <td>Walnut Finish</td>\n",
              "      <td>Sometimes while playing a game, you can answer...</td>\n",
              "      <td>1</td>\n",
              "    </tr>\n",
              "    <tr>\n",
              "      <th>3</th>\n",
              "      <td>5</td>\n",
              "      <td>31-Jul-18</td>\n",
              "      <td>Charcoal Fabric</td>\n",
              "      <td>I have had a lot of fun with this thing. My 4 ...</td>\n",
              "      <td>1</td>\n",
              "    </tr>\n",
              "    <tr>\n",
              "      <th>4</th>\n",
              "      <td>5</td>\n",
              "      <td>31-Jul-18</td>\n",
              "      <td>Charcoal Fabric</td>\n",
              "      <td>Music</td>\n",
              "      <td>1</td>\n",
              "    </tr>\n",
              "  </tbody>\n",
              "</table>\n",
              "</div>\n",
              "    <div class=\"colab-df-buttons\">\n",
              "\n",
              "  <div class=\"colab-df-container\">\n",
              "    <button class=\"colab-df-convert\" onclick=\"convertToInteractive('df-46041f48-5b87-443a-a9ae-223dd143e202')\"\n",
              "            title=\"Convert this dataframe to an interactive table.\"\n",
              "            style=\"display:none;\">\n",
              "\n",
              "  <svg xmlns=\"http://www.w3.org/2000/svg\" height=\"24px\" viewBox=\"0 -960 960 960\">\n",
              "    <path d=\"M120-120v-720h720v720H120Zm60-500h600v-160H180v160Zm220 220h160v-160H400v160Zm0 220h160v-160H400v160ZM180-400h160v-160H180v160Zm440 0h160v-160H620v160ZM180-180h160v-160H180v160Zm440 0h160v-160H620v160Z\"/>\n",
              "  </svg>\n",
              "    </button>\n",
              "\n",
              "  <style>\n",
              "    .colab-df-container {\n",
              "      display:flex;\n",
              "      gap: 12px;\n",
              "    }\n",
              "\n",
              "    .colab-df-convert {\n",
              "      background-color: #E8F0FE;\n",
              "      border: none;\n",
              "      border-radius: 50%;\n",
              "      cursor: pointer;\n",
              "      display: none;\n",
              "      fill: #1967D2;\n",
              "      height: 32px;\n",
              "      padding: 0 0 0 0;\n",
              "      width: 32px;\n",
              "    }\n",
              "\n",
              "    .colab-df-convert:hover {\n",
              "      background-color: #E2EBFA;\n",
              "      box-shadow: 0px 1px 2px rgba(60, 64, 67, 0.3), 0px 1px 3px 1px rgba(60, 64, 67, 0.15);\n",
              "      fill: #174EA6;\n",
              "    }\n",
              "\n",
              "    .colab-df-buttons div {\n",
              "      margin-bottom: 4px;\n",
              "    }\n",
              "\n",
              "    [theme=dark] .colab-df-convert {\n",
              "      background-color: #3B4455;\n",
              "      fill: #D2E3FC;\n",
              "    }\n",
              "\n",
              "    [theme=dark] .colab-df-convert:hover {\n",
              "      background-color: #434B5C;\n",
              "      box-shadow: 0px 1px 3px 1px rgba(0, 0, 0, 0.15);\n",
              "      filter: drop-shadow(0px 1px 2px rgba(0, 0, 0, 0.3));\n",
              "      fill: #FFFFFF;\n",
              "    }\n",
              "  </style>\n",
              "\n",
              "    <script>\n",
              "      const buttonEl =\n",
              "        document.querySelector('#df-46041f48-5b87-443a-a9ae-223dd143e202 button.colab-df-convert');\n",
              "      buttonEl.style.display =\n",
              "        google.colab.kernel.accessAllowed ? 'block' : 'none';\n",
              "\n",
              "      async function convertToInteractive(key) {\n",
              "        const element = document.querySelector('#df-46041f48-5b87-443a-a9ae-223dd143e202');\n",
              "        const dataTable =\n",
              "          await google.colab.kernel.invokeFunction('convertToInteractive',\n",
              "                                                    [key], {});\n",
              "        if (!dataTable) return;\n",
              "\n",
              "        const docLinkHtml = 'Like what you see? Visit the ' +\n",
              "          '<a target=\"_blank\" href=https://colab.research.google.com/notebooks/data_table.ipynb>data table notebook</a>'\n",
              "          + ' to learn more about interactive tables.';\n",
              "        element.innerHTML = '';\n",
              "        dataTable['output_type'] = 'display_data';\n",
              "        await google.colab.output.renderOutput(dataTable, element);\n",
              "        const docLink = document.createElement('div');\n",
              "        docLink.innerHTML = docLinkHtml;\n",
              "        element.appendChild(docLink);\n",
              "      }\n",
              "    </script>\n",
              "  </div>\n",
              "\n",
              "\n",
              "<div id=\"df-05dbf48a-b514-4495-9dab-3d30ab45b644\">\n",
              "  <button class=\"colab-df-quickchart\" onclick=\"quickchart('df-05dbf48a-b514-4495-9dab-3d30ab45b644')\"\n",
              "            title=\"Suggest charts\"\n",
              "            style=\"display:none;\">\n",
              "\n",
              "<svg xmlns=\"http://www.w3.org/2000/svg\" height=\"24px\"viewBox=\"0 0 24 24\"\n",
              "     width=\"24px\">\n",
              "    <g>\n",
              "        <path d=\"M19 3H5c-1.1 0-2 .9-2 2v14c0 1.1.9 2 2 2h14c1.1 0 2-.9 2-2V5c0-1.1-.9-2-2-2zM9 17H7v-7h2v7zm4 0h-2V7h2v10zm4 0h-2v-4h2v4z\"/>\n",
              "    </g>\n",
              "</svg>\n",
              "  </button>\n",
              "\n",
              "<style>\n",
              "  .colab-df-quickchart {\n",
              "      --bg-color: #E8F0FE;\n",
              "      --fill-color: #1967D2;\n",
              "      --hover-bg-color: #E2EBFA;\n",
              "      --hover-fill-color: #174EA6;\n",
              "      --disabled-fill-color: #AAA;\n",
              "      --disabled-bg-color: #DDD;\n",
              "  }\n",
              "\n",
              "  [theme=dark] .colab-df-quickchart {\n",
              "      --bg-color: #3B4455;\n",
              "      --fill-color: #D2E3FC;\n",
              "      --hover-bg-color: #434B5C;\n",
              "      --hover-fill-color: #FFFFFF;\n",
              "      --disabled-bg-color: #3B4455;\n",
              "      --disabled-fill-color: #666;\n",
              "  }\n",
              "\n",
              "  .colab-df-quickchart {\n",
              "    background-color: var(--bg-color);\n",
              "    border: none;\n",
              "    border-radius: 50%;\n",
              "    cursor: pointer;\n",
              "    display: none;\n",
              "    fill: var(--fill-color);\n",
              "    height: 32px;\n",
              "    padding: 0;\n",
              "    width: 32px;\n",
              "  }\n",
              "\n",
              "  .colab-df-quickchart:hover {\n",
              "    background-color: var(--hover-bg-color);\n",
              "    box-shadow: 0 1px 2px rgba(60, 64, 67, 0.3), 0 1px 3px 1px rgba(60, 64, 67, 0.15);\n",
              "    fill: var(--button-hover-fill-color);\n",
              "  }\n",
              "\n",
              "  .colab-df-quickchart-complete:disabled,\n",
              "  .colab-df-quickchart-complete:disabled:hover {\n",
              "    background-color: var(--disabled-bg-color);\n",
              "    fill: var(--disabled-fill-color);\n",
              "    box-shadow: none;\n",
              "  }\n",
              "\n",
              "  .colab-df-spinner {\n",
              "    border: 2px solid var(--fill-color);\n",
              "    border-color: transparent;\n",
              "    border-bottom-color: var(--fill-color);\n",
              "    animation:\n",
              "      spin 1s steps(1) infinite;\n",
              "  }\n",
              "\n",
              "  @keyframes spin {\n",
              "    0% {\n",
              "      border-color: transparent;\n",
              "      border-bottom-color: var(--fill-color);\n",
              "      border-left-color: var(--fill-color);\n",
              "    }\n",
              "    20% {\n",
              "      border-color: transparent;\n",
              "      border-left-color: var(--fill-color);\n",
              "      border-top-color: var(--fill-color);\n",
              "    }\n",
              "    30% {\n",
              "      border-color: transparent;\n",
              "      border-left-color: var(--fill-color);\n",
              "      border-top-color: var(--fill-color);\n",
              "      border-right-color: var(--fill-color);\n",
              "    }\n",
              "    40% {\n",
              "      border-color: transparent;\n",
              "      border-right-color: var(--fill-color);\n",
              "      border-top-color: var(--fill-color);\n",
              "    }\n",
              "    60% {\n",
              "      border-color: transparent;\n",
              "      border-right-color: var(--fill-color);\n",
              "    }\n",
              "    80% {\n",
              "      border-color: transparent;\n",
              "      border-right-color: var(--fill-color);\n",
              "      border-bottom-color: var(--fill-color);\n",
              "    }\n",
              "    90% {\n",
              "      border-color: transparent;\n",
              "      border-bottom-color: var(--fill-color);\n",
              "    }\n",
              "  }\n",
              "</style>\n",
              "\n",
              "  <script>\n",
              "    async function quickchart(key) {\n",
              "      const quickchartButtonEl =\n",
              "        document.querySelector('#' + key + ' button');\n",
              "      quickchartButtonEl.disabled = true;  // To prevent multiple clicks.\n",
              "      quickchartButtonEl.classList.add('colab-df-spinner');\n",
              "      try {\n",
              "        const charts = await google.colab.kernel.invokeFunction(\n",
              "            'suggestCharts', [key], {});\n",
              "      } catch (error) {\n",
              "        console.error('Error during call to suggestCharts:', error);\n",
              "      }\n",
              "      quickchartButtonEl.classList.remove('colab-df-spinner');\n",
              "      quickchartButtonEl.classList.add('colab-df-quickchart-complete');\n",
              "    }\n",
              "    (() => {\n",
              "      let quickchartButtonEl =\n",
              "        document.querySelector('#df-05dbf48a-b514-4495-9dab-3d30ab45b644 button');\n",
              "      quickchartButtonEl.style.display =\n",
              "        google.colab.kernel.accessAllowed ? 'block' : 'none';\n",
              "    })();\n",
              "  </script>\n",
              "</div>\n",
              "\n",
              "    </div>\n",
              "  </div>\n"
            ],
            "application/vnd.google.colaboratory.intrinsic+json": {
              "type": "dataframe",
              "variable_name": "amazon_data",
              "summary": "{\n  \"name\": \"amazon_data\",\n  \"rows\": 3150,\n  \"fields\": [\n    {\n      \"column\": \"rating\",\n      \"properties\": {\n        \"dtype\": \"number\",\n        \"std\": 1,\n        \"min\": 1,\n        \"max\": 5,\n        \"num_unique_values\": 5,\n        \"samples\": [\n          4,\n          1,\n          3\n        ],\n        \"semantic_type\": \"\",\n        \"description\": \"\"\n      }\n    },\n    {\n      \"column\": \"date\",\n      \"properties\": {\n        \"dtype\": \"object\",\n        \"num_unique_values\": 77,\n        \"samples\": [\n          \"27-Jul-18\",\n          \"26-Jun-18\",\n          \"21-Jul-18\"\n        ],\n        \"semantic_type\": \"\",\n        \"description\": \"\"\n      }\n    },\n    {\n      \"column\": \"variation\",\n      \"properties\": {\n        \"dtype\": \"category\",\n        \"num_unique_values\": 16,\n        \"samples\": [\n          \"Charcoal Fabric \",\n          \"Walnut Finish \",\n          \"Black\"\n        ],\n        \"semantic_type\": \"\",\n        \"description\": \"\"\n      }\n    },\n    {\n      \"column\": \"verified_reviews\",\n      \"properties\": {\n        \"dtype\": \"string\",\n        \"num_unique_values\": 2300,\n        \"samples\": [\n          \"Fun tech toy\",\n          \"Love the fire stick. Alexa works well on it too. Would recommend.\",\n          \"The best part of this product is you can control the thermostat and lights for your house.  There isn\\u2019t anything I dislike.\"\n        ],\n        \"semantic_type\": \"\",\n        \"description\": \"\"\n      }\n    },\n    {\n      \"column\": \"feedback\",\n      \"properties\": {\n        \"dtype\": \"number\",\n        \"std\": 0,\n        \"min\": 0,\n        \"max\": 1,\n        \"num_unique_values\": 2,\n        \"samples\": [\n          0,\n          1\n        ],\n        \"semantic_type\": \"\",\n        \"description\": \"\"\n      }\n    }\n  ]\n}"
            }
          },
          "metadata": {},
          "execution_count": 2
        }
      ]
    },
    {
      "cell_type": "code",
      "source": [
        "amazon_data.shape"
      ],
      "metadata": {
        "colab": {
          "base_uri": "https://localhost:8080/"
        },
        "id": "MuqBYdGKcrcG",
        "outputId": "c9f44d8e-db9a-4a15-f6ae-ca2c789d96d8"
      },
      "execution_count": 3,
      "outputs": [
        {
          "output_type": "execute_result",
          "data": {
            "text/plain": [
              "(3150, 5)"
            ]
          },
          "metadata": {},
          "execution_count": 3
        }
      ]
    },
    {
      "cell_type": "code",
      "source": [
        "amazon_data.info()"
      ],
      "metadata": {
        "colab": {
          "base_uri": "https://localhost:8080/"
        },
        "id": "Y3_0zmtYdAV2",
        "outputId": "637d9ec7-a11d-4d6a-8d5d-1a649b912b52"
      },
      "execution_count": 4,
      "outputs": [
        {
          "output_type": "stream",
          "name": "stdout",
          "text": [
            "<class 'pandas.core.frame.DataFrame'>\n",
            "RangeIndex: 3150 entries, 0 to 3149\n",
            "Data columns (total 5 columns):\n",
            " #   Column            Non-Null Count  Dtype \n",
            "---  ------            --------------  ----- \n",
            " 0   rating            3150 non-null   int64 \n",
            " 1   date              3150 non-null   object\n",
            " 2   variation         3150 non-null   object\n",
            " 3   verified_reviews  3149 non-null   object\n",
            " 4   feedback          3150 non-null   int64 \n",
            "dtypes: int64(2), object(3)\n",
            "memory usage: 123.2+ KB\n"
          ]
        }
      ]
    },
    {
      "cell_type": "code",
      "source": [
        "amazon_data.feedback.value_counts()"
      ],
      "metadata": {
        "colab": {
          "base_uri": "https://localhost:8080/",
          "height": 178
        },
        "id": "N9j8auAidLRd",
        "outputId": "d1c8e8d8-e08a-46d7-be8f-a19ee002f16c"
      },
      "execution_count": 5,
      "outputs": [
        {
          "output_type": "execute_result",
          "data": {
            "text/plain": [
              "feedback\n",
              "1    2893\n",
              "0     257\n",
              "Name: count, dtype: int64"
            ],
            "text/html": [
              "<div>\n",
              "<style scoped>\n",
              "    .dataframe tbody tr th:only-of-type {\n",
              "        vertical-align: middle;\n",
              "    }\n",
              "\n",
              "    .dataframe tbody tr th {\n",
              "        vertical-align: top;\n",
              "    }\n",
              "\n",
              "    .dataframe thead th {\n",
              "        text-align: right;\n",
              "    }\n",
              "</style>\n",
              "<table border=\"1\" class=\"dataframe\">\n",
              "  <thead>\n",
              "    <tr style=\"text-align: right;\">\n",
              "      <th></th>\n",
              "      <th>count</th>\n",
              "    </tr>\n",
              "    <tr>\n",
              "      <th>feedback</th>\n",
              "      <th></th>\n",
              "    </tr>\n",
              "  </thead>\n",
              "  <tbody>\n",
              "    <tr>\n",
              "      <th>1</th>\n",
              "      <td>2893</td>\n",
              "    </tr>\n",
              "    <tr>\n",
              "      <th>0</th>\n",
              "      <td>257</td>\n",
              "    </tr>\n",
              "  </tbody>\n",
              "</table>\n",
              "</div><br><label><b>dtype:</b> int64</label>"
            ]
          },
          "metadata": {},
          "execution_count": 5
        }
      ]
    },
    {
      "cell_type": "code",
      "source": [
        "amazon_data.isna().sum().sort_values(ascending=False)"
      ],
      "metadata": {
        "colab": {
          "base_uri": "https://localhost:8080/",
          "height": 241
        },
        "id": "ToyjqzhYdRIL",
        "outputId": "b5d807bd-dd56-42ee-a0bd-186dc4f82635"
      },
      "execution_count": 6,
      "outputs": [
        {
          "output_type": "execute_result",
          "data": {
            "text/plain": [
              "verified_reviews    1\n",
              "rating              0\n",
              "date                0\n",
              "variation           0\n",
              "feedback            0\n",
              "dtype: int64"
            ],
            "text/html": [
              "<div>\n",
              "<style scoped>\n",
              "    .dataframe tbody tr th:only-of-type {\n",
              "        vertical-align: middle;\n",
              "    }\n",
              "\n",
              "    .dataframe tbody tr th {\n",
              "        vertical-align: top;\n",
              "    }\n",
              "\n",
              "    .dataframe thead th {\n",
              "        text-align: right;\n",
              "    }\n",
              "</style>\n",
              "<table border=\"1\" class=\"dataframe\">\n",
              "  <thead>\n",
              "    <tr style=\"text-align: right;\">\n",
              "      <th></th>\n",
              "      <th>0</th>\n",
              "    </tr>\n",
              "  </thead>\n",
              "  <tbody>\n",
              "    <tr>\n",
              "      <th>verified_reviews</th>\n",
              "      <td>1</td>\n",
              "    </tr>\n",
              "    <tr>\n",
              "      <th>rating</th>\n",
              "      <td>0</td>\n",
              "    </tr>\n",
              "    <tr>\n",
              "      <th>date</th>\n",
              "      <td>0</td>\n",
              "    </tr>\n",
              "    <tr>\n",
              "      <th>variation</th>\n",
              "      <td>0</td>\n",
              "    </tr>\n",
              "    <tr>\n",
              "      <th>feedback</th>\n",
              "      <td>0</td>\n",
              "    </tr>\n",
              "  </tbody>\n",
              "</table>\n",
              "</div><br><label><b>dtype:</b> int64</label>"
            ]
          },
          "metadata": {},
          "execution_count": 6
        }
      ]
    },
    {
      "cell_type": "code",
      "source": [
        "#amazon_data = amazon_data.dropna(subset=['verified_reviews'])"
      ],
      "metadata": {
        "id": "_e-NdhJXY7b5"
      },
      "execution_count": 7,
      "outputs": []
    },
    {
      "cell_type": "code",
      "source": [
        "amazon_data.describe()"
      ],
      "metadata": {
        "colab": {
          "base_uri": "https://localhost:8080/",
          "height": 300
        },
        "id": "HaYcFCg4dZF7",
        "outputId": "48bec790-1f8a-45af-bb3f-d1ea18e4b46d"
      },
      "execution_count": 8,
      "outputs": [
        {
          "output_type": "execute_result",
          "data": {
            "text/plain": [
              "            rating     feedback\n",
              "count  3150.000000  3150.000000\n",
              "mean      4.463175     0.918413\n",
              "std       1.068506     0.273778\n",
              "min       1.000000     0.000000\n",
              "25%       4.000000     1.000000\n",
              "50%       5.000000     1.000000\n",
              "75%       5.000000     1.000000\n",
              "max       5.000000     1.000000"
            ],
            "text/html": [
              "\n",
              "  <div id=\"df-dacf9437-736b-4dc4-b827-a6a9887acade\" class=\"colab-df-container\">\n",
              "    <div>\n",
              "<style scoped>\n",
              "    .dataframe tbody tr th:only-of-type {\n",
              "        vertical-align: middle;\n",
              "    }\n",
              "\n",
              "    .dataframe tbody tr th {\n",
              "        vertical-align: top;\n",
              "    }\n",
              "\n",
              "    .dataframe thead th {\n",
              "        text-align: right;\n",
              "    }\n",
              "</style>\n",
              "<table border=\"1\" class=\"dataframe\">\n",
              "  <thead>\n",
              "    <tr style=\"text-align: right;\">\n",
              "      <th></th>\n",
              "      <th>rating</th>\n",
              "      <th>feedback</th>\n",
              "    </tr>\n",
              "  </thead>\n",
              "  <tbody>\n",
              "    <tr>\n",
              "      <th>count</th>\n",
              "      <td>3150.000000</td>\n",
              "      <td>3150.000000</td>\n",
              "    </tr>\n",
              "    <tr>\n",
              "      <th>mean</th>\n",
              "      <td>4.463175</td>\n",
              "      <td>0.918413</td>\n",
              "    </tr>\n",
              "    <tr>\n",
              "      <th>std</th>\n",
              "      <td>1.068506</td>\n",
              "      <td>0.273778</td>\n",
              "    </tr>\n",
              "    <tr>\n",
              "      <th>min</th>\n",
              "      <td>1.000000</td>\n",
              "      <td>0.000000</td>\n",
              "    </tr>\n",
              "    <tr>\n",
              "      <th>25%</th>\n",
              "      <td>4.000000</td>\n",
              "      <td>1.000000</td>\n",
              "    </tr>\n",
              "    <tr>\n",
              "      <th>50%</th>\n",
              "      <td>5.000000</td>\n",
              "      <td>1.000000</td>\n",
              "    </tr>\n",
              "    <tr>\n",
              "      <th>75%</th>\n",
              "      <td>5.000000</td>\n",
              "      <td>1.000000</td>\n",
              "    </tr>\n",
              "    <tr>\n",
              "      <th>max</th>\n",
              "      <td>5.000000</td>\n",
              "      <td>1.000000</td>\n",
              "    </tr>\n",
              "  </tbody>\n",
              "</table>\n",
              "</div>\n",
              "    <div class=\"colab-df-buttons\">\n",
              "\n",
              "  <div class=\"colab-df-container\">\n",
              "    <button class=\"colab-df-convert\" onclick=\"convertToInteractive('df-dacf9437-736b-4dc4-b827-a6a9887acade')\"\n",
              "            title=\"Convert this dataframe to an interactive table.\"\n",
              "            style=\"display:none;\">\n",
              "\n",
              "  <svg xmlns=\"http://www.w3.org/2000/svg\" height=\"24px\" viewBox=\"0 -960 960 960\">\n",
              "    <path d=\"M120-120v-720h720v720H120Zm60-500h600v-160H180v160Zm220 220h160v-160H400v160Zm0 220h160v-160H400v160ZM180-400h160v-160H180v160Zm440 0h160v-160H620v160ZM180-180h160v-160H180v160Zm440 0h160v-160H620v160Z\"/>\n",
              "  </svg>\n",
              "    </button>\n",
              "\n",
              "  <style>\n",
              "    .colab-df-container {\n",
              "      display:flex;\n",
              "      gap: 12px;\n",
              "    }\n",
              "\n",
              "    .colab-df-convert {\n",
              "      background-color: #E8F0FE;\n",
              "      border: none;\n",
              "      border-radius: 50%;\n",
              "      cursor: pointer;\n",
              "      display: none;\n",
              "      fill: #1967D2;\n",
              "      height: 32px;\n",
              "      padding: 0 0 0 0;\n",
              "      width: 32px;\n",
              "    }\n",
              "\n",
              "    .colab-df-convert:hover {\n",
              "      background-color: #E2EBFA;\n",
              "      box-shadow: 0px 1px 2px rgba(60, 64, 67, 0.3), 0px 1px 3px 1px rgba(60, 64, 67, 0.15);\n",
              "      fill: #174EA6;\n",
              "    }\n",
              "\n",
              "    .colab-df-buttons div {\n",
              "      margin-bottom: 4px;\n",
              "    }\n",
              "\n",
              "    [theme=dark] .colab-df-convert {\n",
              "      background-color: #3B4455;\n",
              "      fill: #D2E3FC;\n",
              "    }\n",
              "\n",
              "    [theme=dark] .colab-df-convert:hover {\n",
              "      background-color: #434B5C;\n",
              "      box-shadow: 0px 1px 3px 1px rgba(0, 0, 0, 0.15);\n",
              "      filter: drop-shadow(0px 1px 2px rgba(0, 0, 0, 0.3));\n",
              "      fill: #FFFFFF;\n",
              "    }\n",
              "  </style>\n",
              "\n",
              "    <script>\n",
              "      const buttonEl =\n",
              "        document.querySelector('#df-dacf9437-736b-4dc4-b827-a6a9887acade button.colab-df-convert');\n",
              "      buttonEl.style.display =\n",
              "        google.colab.kernel.accessAllowed ? 'block' : 'none';\n",
              "\n",
              "      async function convertToInteractive(key) {\n",
              "        const element = document.querySelector('#df-dacf9437-736b-4dc4-b827-a6a9887acade');\n",
              "        const dataTable =\n",
              "          await google.colab.kernel.invokeFunction('convertToInteractive',\n",
              "                                                    [key], {});\n",
              "        if (!dataTable) return;\n",
              "\n",
              "        const docLinkHtml = 'Like what you see? Visit the ' +\n",
              "          '<a target=\"_blank\" href=https://colab.research.google.com/notebooks/data_table.ipynb>data table notebook</a>'\n",
              "          + ' to learn more about interactive tables.';\n",
              "        element.innerHTML = '';\n",
              "        dataTable['output_type'] = 'display_data';\n",
              "        await google.colab.output.renderOutput(dataTable, element);\n",
              "        const docLink = document.createElement('div');\n",
              "        docLink.innerHTML = docLinkHtml;\n",
              "        element.appendChild(docLink);\n",
              "      }\n",
              "    </script>\n",
              "  </div>\n",
              "\n",
              "\n",
              "<div id=\"df-b89f1fe1-94f1-40f2-8422-735668b8c6f3\">\n",
              "  <button class=\"colab-df-quickchart\" onclick=\"quickchart('df-b89f1fe1-94f1-40f2-8422-735668b8c6f3')\"\n",
              "            title=\"Suggest charts\"\n",
              "            style=\"display:none;\">\n",
              "\n",
              "<svg xmlns=\"http://www.w3.org/2000/svg\" height=\"24px\"viewBox=\"0 0 24 24\"\n",
              "     width=\"24px\">\n",
              "    <g>\n",
              "        <path d=\"M19 3H5c-1.1 0-2 .9-2 2v14c0 1.1.9 2 2 2h14c1.1 0 2-.9 2-2V5c0-1.1-.9-2-2-2zM9 17H7v-7h2v7zm4 0h-2V7h2v10zm4 0h-2v-4h2v4z\"/>\n",
              "    </g>\n",
              "</svg>\n",
              "  </button>\n",
              "\n",
              "<style>\n",
              "  .colab-df-quickchart {\n",
              "      --bg-color: #E8F0FE;\n",
              "      --fill-color: #1967D2;\n",
              "      --hover-bg-color: #E2EBFA;\n",
              "      --hover-fill-color: #174EA6;\n",
              "      --disabled-fill-color: #AAA;\n",
              "      --disabled-bg-color: #DDD;\n",
              "  }\n",
              "\n",
              "  [theme=dark] .colab-df-quickchart {\n",
              "      --bg-color: #3B4455;\n",
              "      --fill-color: #D2E3FC;\n",
              "      --hover-bg-color: #434B5C;\n",
              "      --hover-fill-color: #FFFFFF;\n",
              "      --disabled-bg-color: #3B4455;\n",
              "      --disabled-fill-color: #666;\n",
              "  }\n",
              "\n",
              "  .colab-df-quickchart {\n",
              "    background-color: var(--bg-color);\n",
              "    border: none;\n",
              "    border-radius: 50%;\n",
              "    cursor: pointer;\n",
              "    display: none;\n",
              "    fill: var(--fill-color);\n",
              "    height: 32px;\n",
              "    padding: 0;\n",
              "    width: 32px;\n",
              "  }\n",
              "\n",
              "  .colab-df-quickchart:hover {\n",
              "    background-color: var(--hover-bg-color);\n",
              "    box-shadow: 0 1px 2px rgba(60, 64, 67, 0.3), 0 1px 3px 1px rgba(60, 64, 67, 0.15);\n",
              "    fill: var(--button-hover-fill-color);\n",
              "  }\n",
              "\n",
              "  .colab-df-quickchart-complete:disabled,\n",
              "  .colab-df-quickchart-complete:disabled:hover {\n",
              "    background-color: var(--disabled-bg-color);\n",
              "    fill: var(--disabled-fill-color);\n",
              "    box-shadow: none;\n",
              "  }\n",
              "\n",
              "  .colab-df-spinner {\n",
              "    border: 2px solid var(--fill-color);\n",
              "    border-color: transparent;\n",
              "    border-bottom-color: var(--fill-color);\n",
              "    animation:\n",
              "      spin 1s steps(1) infinite;\n",
              "  }\n",
              "\n",
              "  @keyframes spin {\n",
              "    0% {\n",
              "      border-color: transparent;\n",
              "      border-bottom-color: var(--fill-color);\n",
              "      border-left-color: var(--fill-color);\n",
              "    }\n",
              "    20% {\n",
              "      border-color: transparent;\n",
              "      border-left-color: var(--fill-color);\n",
              "      border-top-color: var(--fill-color);\n",
              "    }\n",
              "    30% {\n",
              "      border-color: transparent;\n",
              "      border-left-color: var(--fill-color);\n",
              "      border-top-color: var(--fill-color);\n",
              "      border-right-color: var(--fill-color);\n",
              "    }\n",
              "    40% {\n",
              "      border-color: transparent;\n",
              "      border-right-color: var(--fill-color);\n",
              "      border-top-color: var(--fill-color);\n",
              "    }\n",
              "    60% {\n",
              "      border-color: transparent;\n",
              "      border-right-color: var(--fill-color);\n",
              "    }\n",
              "    80% {\n",
              "      border-color: transparent;\n",
              "      border-right-color: var(--fill-color);\n",
              "      border-bottom-color: var(--fill-color);\n",
              "    }\n",
              "    90% {\n",
              "      border-color: transparent;\n",
              "      border-bottom-color: var(--fill-color);\n",
              "    }\n",
              "  }\n",
              "</style>\n",
              "\n",
              "  <script>\n",
              "    async function quickchart(key) {\n",
              "      const quickchartButtonEl =\n",
              "        document.querySelector('#' + key + ' button');\n",
              "      quickchartButtonEl.disabled = true;  // To prevent multiple clicks.\n",
              "      quickchartButtonEl.classList.add('colab-df-spinner');\n",
              "      try {\n",
              "        const charts = await google.colab.kernel.invokeFunction(\n",
              "            'suggestCharts', [key], {});\n",
              "      } catch (error) {\n",
              "        console.error('Error during call to suggestCharts:', error);\n",
              "      }\n",
              "      quickchartButtonEl.classList.remove('colab-df-spinner');\n",
              "      quickchartButtonEl.classList.add('colab-df-quickchart-complete');\n",
              "    }\n",
              "    (() => {\n",
              "      let quickchartButtonEl =\n",
              "        document.querySelector('#df-b89f1fe1-94f1-40f2-8422-735668b8c6f3 button');\n",
              "      quickchartButtonEl.style.display =\n",
              "        google.colab.kernel.accessAllowed ? 'block' : 'none';\n",
              "    })();\n",
              "  </script>\n",
              "</div>\n",
              "\n",
              "    </div>\n",
              "  </div>\n"
            ],
            "application/vnd.google.colaboratory.intrinsic+json": {
              "type": "dataframe",
              "summary": "{\n  \"name\": \"amazon_data\",\n  \"rows\": 8,\n  \"fields\": [\n    {\n      \"column\": \"rating\",\n      \"properties\": {\n        \"dtype\": \"number\",\n        \"std\": 1112.4049159968727,\n        \"min\": 1.0,\n        \"max\": 3150.0,\n        \"num_unique_values\": 6,\n        \"samples\": [\n          3150.0,\n          4.463174603174603,\n          5.0\n        ],\n        \"semantic_type\": \"\",\n        \"description\": \"\"\n      }\n    },\n    {\n      \"column\": \"feedback\",\n      \"properties\": {\n        \"dtype\": \"number\",\n        \"std\": 1113.4310035776366,\n        \"min\": 0.0,\n        \"max\": 3150.0,\n        \"num_unique_values\": 5,\n        \"samples\": [\n          0.9184126984126985,\n          1.0,\n          0.27377839381687724\n        ],\n        \"semantic_type\": \"\",\n        \"description\": \"\"\n      }\n    }\n  ]\n}"
            }
          },
          "metadata": {},
          "execution_count": 8
        }
      ]
    },
    {
      "cell_type": "markdown",
      "source": [
        "# Data Visualization"
      ],
      "metadata": {
        "id": "RS_WhglQdw5L"
      }
    },
    {
      "cell_type": "markdown",
      "source": [
        "**Visualizing feedback Counts**"
      ],
      "metadata": {
        "id": "UWXvYVs8g5B1"
      }
    },
    {
      "cell_type": "code",
      "source": [
        "# Create a bar plot to visualize the distribution of feedback\n",
        "# Get the counts of feedback values\n",
        "feedback_counts = amazon_data.feedback.value_counts()\n",
        "\n",
        "plt.figure(figsize=(5, 5))\n",
        "sns.barplot(x=feedback_counts.index, y=feedback_counts.values, palette='viridis')\n",
        "plt.title(\"Distribution of Feedback Categories\")\n",
        "plt.xlabel(\"Feedback\")\n",
        "plt.ylabel(\"Count\")\n",
        "plt.xticks(rotation=45)\n",
        "plt.show()"
      ],
      "metadata": {
        "colab": {
          "base_uri": "https://localhost:8080/",
          "height": 576
        },
        "id": "T9SB3X83desM",
        "outputId": "7b6e8e72-0c41-4d6a-f692-c26dcb0fb314"
      },
      "execution_count": 9,
      "outputs": [
        {
          "output_type": "stream",
          "name": "stderr",
          "text": [
            "<ipython-input-9-974329e11689>:6: FutureWarning: \n",
            "\n",
            "Passing `palette` without assigning `hue` is deprecated and will be removed in v0.14.0. Assign the `x` variable to `hue` and set `legend=False` for the same effect.\n",
            "\n",
            "  sns.barplot(x=feedback_counts.index, y=feedback_counts.values, palette='viridis')\n"
          ]
        },
        {
          "output_type": "display_data",
          "data": {
            "text/plain": [
              "<Figure size 500x500 with 1 Axes>"
            ],
            "image/png": "[encoded data removed]"
          },
          "metadata": {}
        }
      ]
    },
    {
      "cell_type": "markdown",
      "source": [
        "**Visualizing summary statistics**"
      ],
      "metadata": {
        "id": "Yf4CGwWQhPQp"
      }
    },
    {
      "cell_type": "code",
      "source": [
        "# Generate summary statistics using describe()\n",
        "summary_stats = amazon_data.describe()\n",
        "\n",
        "# Create a boxplot to visualize the distribution of numerical columns\n",
        "plt.figure(figsize=(5, 5))\n",
        "sns.boxplot(data=amazon_data)\n",
        "plt.title(\"Boxplot of Summary Statistics\")\n",
        "plt.show()"
      ],
      "metadata": {
        "colab": {
          "base_uri": "https://localhost:8080/",
          "height": 468
        },
        "id": "I3PZireueMDa",
        "outputId": "28e9d7c1-4be9-42cd-8505-c948d80b30ce"
      },
      "execution_count": 10,
      "outputs": [
        {
          "output_type": "display_data",
          "data": {
            "text/plain": [
              "<Figure size 500x500 with 1 Axes>"
            ],
            "image/png": "[encoded data removed]"
          },
          "metadata": {}
        }
      ]
    },
    {
      "cell_type": "markdown",
      "source": [
        "**Visualizing rating Distribution**"
      ],
      "metadata": {
        "id": "PcuNfmIMhJpW"
      }
    },
    {
      "cell_type": "code",
      "source": [
        "# Visualize the distribution of ratings\n",
        "plt.figure(figsize=(5, 5))\n",
        "sns.histplot(amazon_data['rating'], bins=5, kde=False, color='skyblue')\n",
        "plt.title(\"Distribution of Product Ratings\")\n",
        "plt.xlabel(\"Rating\")\n",
        "plt.ylabel(\"Count\")\n",
        "plt.show()"
      ],
      "metadata": {
        "colab": {
          "base_uri": "https://localhost:8080/",
          "height": 487
        },
        "id": "oV-pI3D-ekxP",
        "outputId": "f64405d3-cfa3-46ec-8510-a5dbdaa2b8ad"
      },
      "execution_count": 11,
      "outputs": [
        {
          "output_type": "display_data",
          "data": {
            "text/plain": [
              "<Figure size 500x500 with 1 Axes>"
            ],
            "image/png": "[encoded data removed]"
          },
          "metadata": {}
        }
      ]
    },
    {
      "cell_type": "markdown",
      "source": [
        "**Visualizing Date (date) Over Time**\n",
        "*If the date column contains timestamps, you can visualize how reviews or feedback change over time. First, convert the date column to a datetime type:*"
      ],
      "metadata": {
        "id": "xsvp4V5Wfwes"
      }
    },
    {
      "cell_type": "code",
      "source": [
        "# Convert 'date' column to datetime type\n",
        "amazon_data['date'] = pd.to_datetime(amazon_data['date'])\n",
        "\n",
        "# Plot the number of reviews over time\n",
        "plt.figure(figsize=(10, 6))\n",
        "amazon_data['date'].value_counts().sort_index().plot(figsize=(5, 5))\n",
        "plt.title(\"Number of Reviews Over Time\")\n",
        "plt.xlabel(\"Date\")\n",
        "plt.ylabel(\"Review Count\")\n",
        "plt.xticks(rotation=45)\n",
        "plt.show()"
      ],
      "metadata": {
        "colab": {
          "base_uri": "https://localhost:8080/",
          "height": 597
        },
        "id": "7aIrwOr9fQtD",
        "outputId": "dbed2e59-a238-4c20-ed73-713b5d4ebfb3"
      },
      "execution_count": 12,
      "outputs": [
        {
          "output_type": "stream",
          "name": "stderr",
          "text": [
            "<ipython-input-12-5a9edcbbeb72>:2: UserWarning: Could not infer format, so each element will be parsed individually, falling back to `dateutil`. To ensure parsing is consistent and as-expected, please specify a format.\n",
            "  amazon_data['date'] = pd.to_datetime(amazon_data['date'])\n"
          ]
        },
        {
          "output_type": "display_data",
          "data": {
            "text/plain": [
              "<Figure size 500x500 with 1 Axes>"
            ],
            "image/png": "[encoded data removed]"
          },
          "metadata": {}
        }
      ]
    },
    {
      "cell_type": "markdown",
      "source": [
        "**Visualizing variation Counts** *If variation refers to different product variations, a bar plot can show the count of each variation*"
      ],
      "metadata": {
        "id": "2Bde5ETzgVHs"
      }
    },
    {
      "cell_type": "code",
      "source": [
        "# Get the count of product variations\n",
        "variation_counts = amazon_data['variation'].value_counts()\n",
        "\n",
        "# Plot the variation distribution\n",
        "plt.figure(figsize=(10, 4))\n",
        "sns.barplot(x=variation_counts.index, y=variation_counts.values, palette='Set2')\n",
        "plt.title(\"Distribution of Product Variations\")\n",
        "plt.xlabel(\"Product Variation\")\n",
        "plt.ylabel(\"Count\")\n",
        "plt.xticks(rotation=45)\n",
        "plt.show()\n"
      ],
      "metadata": {
        "colab": {
          "base_uri": "https://localhost:8080/",
          "height": 627
        },
        "id": "tdHivkHIgUuL",
        "outputId": "3872b348-d93e-4b43-b709-8dfb638d6284"
      },
      "execution_count": 13,
      "outputs": [
        {
          "output_type": "stream",
          "name": "stderr",
          "text": [
            "<ipython-input-13-99056db704db>:6: FutureWarning: \n",
            "\n",
            "Passing `palette` without assigning `hue` is deprecated and will be removed in v0.14.0. Assign the `x` variable to `hue` and set `legend=False` for the same effect.\n",
            "\n",
            "  sns.barplot(x=variation_counts.index, y=variation_counts.values, palette='Set2')\n"
          ]
        },
        {
          "output_type": "display_data",
          "data": {
            "text/plain": [
              "<Figure size 1000x400 with 1 Axes>"
            ],
            "image/png": "[encoded data removed]"
          },
          "metadata": {}
        }
      ]
    },
    {
      "cell_type": "code",
      "source": [
        "print(amazon_data['variation'].value_counts())\n",
        "print(amazon_data['rating'].value_counts())\n",
        "print(amazon_data['feedback'].value_counts())"
      ],
      "metadata": {
        "colab": {
          "base_uri": "https://localhost:8080/"
        },
        "id": "BaBLhoOS3tlR",
        "outputId": "b28c1b42-f6e8-4086-d597-f3de1f39e1a4"
      },
      "execution_count": 60,
      "outputs": [
        {
          "output_type": "stream",
          "name": "stdout",
          "text": [
            "variation\n",
            "Black  Dot                      516\n",
            "Charcoal Fabric                 430\n",
            "Configuration: Fire TV Stick    350\n",
            "Black  Plus                     270\n",
            "Black  Show                     265\n",
            "Black                           261\n",
            "Black  Spot                     241\n",
            "White  Dot                      184\n",
            "Heather Gray Fabric             157\n",
            "White  Spot                     109\n",
            "White                            91\n",
            "Sandstone Fabric                 90\n",
            "White  Show                      85\n",
            "White  Plus                      78\n",
            "Oak Finish                       14\n",
            "Walnut Finish                     9\n",
            "Name: count, dtype: int64\n",
            "rating\n",
            "5    2286\n",
            "4     455\n",
            "1     161\n",
            "3     152\n",
            "2      96\n",
            "Name: count, dtype: int64\n",
            "verified_reviews\n",
            "                                                                                                                                                                                                                                                                                                                                                            79\n",
            "Love it!                                                                                                                                                                                                                                                                                                                                                    22\n",
            "Love it                                                                                                                                                                                                                                                                                                                                                     19\n",
            "Great product                                                                                                                                                                                                                                                                                                                                               11\n",
            "Great                                                                                                                                                                                                                                                                                                                                                        9\n",
            "                                                                                                                                                                                                                                                                                                                                                            ..\n",
            "Love my spot! My favorite feature is the &#34;Alexa, start my day.&#34; I love that I can hear the weather, traffic and even the word of the day! It even goes right into my favorite podcast while I get dressed!                                                                                                                                           1\n",
            "I think it can read my mind                                                                                                                                                                                                                                                                                                                                  1\n",
            "I love this thing! It plays my books from audible or prime music and sets my alarms! If you’re considering purchasing one, get it. It’s worth it.                                                                                                                                                                                                            1\n",
            "I bought this for my 90 year old grandmother and she and I love it!!! She can call all her family members with just her voice, play games, even watch a video and I love that I can “drop in” on her any time to see how she is doing. She lives all by herself. And I feel comfortable if there was an emergency she could call out to Alexa for help!!     1\n",
            "The echo dot was easy to set up and use. It helps provide music, etc. to small spaces and was just what I was looking for.                                                                                                                                                                                                                                   1\n",
            "Name: count, Length: 2300, dtype: int64\n",
            "feedback\n",
            "1    2893\n",
            "0     257\n",
            "Name: count, dtype: int64\n"
          ]
        }
      ]
    },
    {
      "cell_type": "markdown",
      "source": [
        "# Text preprocessing\n",
        "\n",
        "\n",
        "**Explanation of the Steps in the Function**\n",
        "\n",
        "\n",
        "**(1)re.sub(r'\\W', ' ', str(text)):**\n",
        "This uses a regular expression to replace all non-word characters (anything that's not a letter or number) with spaces. The \\W pattern matches anything that's not a word character.\n",
        "\n",
        "\n",
        "\n",
        "**(2)re.sub(r'\\s+[a-zA-Z]\\s+', ' ', text):**\n",
        "This removes any single alphabetic characters (e.g., \"a\", \"I\") that are surrounded by spaces. These are often not meaningful in text processing.\n",
        "\n",
        "\n",
        "\n",
        "**(3)re.sub(r'\\^[a-zA-Z]\\s+', ' ', text):**\n",
        "This removes any single alphabetic characters at the start of the string (e.g., removing stray characters like 'b' or 'I' from the beginning).\n",
        "\n",
        "\n",
        "\n",
        "**(4)re.sub(r'\\s+', ' ', text, flags=re.I):**\n",
        "This consolidates multiple consecutive spaces into a single space.\n",
        "\n",
        "\n",
        "\n",
        "**(5)re.sub(r'^b\\s+', '', text):**\n",
        "This removes the leading letter 'b' from a string (if it's the first character) that might occur in specific cases (e.g., \"b I am happy\" becomes \"I am happy\").\n",
        "\n",
        "\n",
        "\n",
        "**(6)text.lower():**\n",
        "Converts all characters in the text to lowercase, ensuring uniformity and preventing differentiation between \"Hello\" and \"hello\".\n",
        "\n",
        "\n",
        "\n",
        "**(7)text.split():**\n",
        "This splits the cleaned text into individual words (tokens).\n",
        "\n",
        "\n",
        "\n",
        "**(8)[lemmatizer.lemmatize(word) for word in text]:**\n",
        "This applies the NLTK WordNetLemmatizer to each word, converting words like \"running\" to their base form \"run\". Lemmatization is more advanced than stemming as it ensures words are reduced to meaningful base forms.\n",
        "\n",
        "\n",
        "\n",
        "**(9)' '.join(text):**\n",
        "Finally, the lemmatized words are joined back into a single string, where each word is separated by a space.\n"
      ],
      "metadata": {
        "id": "exS2Y7vwhsur"
      }
    },
    {
      "cell_type": "code",
      "source": [
        "import nltk\n",
        "\n",
        "# Download the WordNet corpus\n",
        "nltk.download('wordnet')\n",
        "\n",
        "# Additionally, download 'omw-1.4' for better lemmatization coverage\n",
        "nltk.download('omw-1.4')\n"
      ],
      "metadata": {
        "colab": {
          "base_uri": "https://localhost:8080/"
        },
        "id": "wi_yVMbtM-tO",
        "outputId": "ab306842-4952-4b3f-e08f-3d96ca67765a"
      },
      "execution_count": 14,
      "outputs": [
        {
          "output_type": "stream",
          "name": "stderr",
          "text": [
            "[nltk_data] Downloading package wordnet to /root/nltk_data...\n",
            "[nltk_data]   Package wordnet is already up-to-date!\n",
            "[nltk_data] Downloading package omw-1.4 to /root/nltk_data...\n",
            "[nltk_data]   Package omw-1.4 is already up-to-date!\n"
          ]
        },
        {
          "output_type": "execute_result",
          "data": {
            "text/plain": [
              "True"
            ]
          },
          "metadata": {},
          "execution_count": 14
        }
      ]
    },
    {
      "cell_type": "code",
      "source": [
        "import string\n",
        "import spacy\n",
        "import re\n",
        "from nltk.stem import WordNetLemmatizer\n",
        "\n",
        "# Create our list of punctuation marks\n",
        "punctuations = string.punctuation\n",
        "\n",
        "# Create our list of stopwords\n",
        "nlp = spacy.load('en_core_web_sm')\n",
        "stop_words = spacy.lang.en.stop_words.STOP_WORDS\n",
        "\n",
        "# Load English tokenizer, tagger, parser, NER and word vectors\n",
        "parser = spacy.load('en_core_web_sm')\n",
        "\n",
        "# Creating our tokenizer function\n",
        "def spacy_tokenizer(sentence):\n",
        "    lemmatizer = WordNetLemmatizer()\n",
        "\n",
        "    # Cleaning and preprocessing steps\n",
        "    text = re.sub(r'\\W', ' ', str(sentence))  # Replace non-word characters with spaces (sentence -> text)\n",
        "    text = re.sub(r'\\s+[a-zA-Z]\\s+', ' ', text)  # Remove single characters\n",
        "    text = re.sub(r'\\^[a-zA-Z]\\s+', ' ', text)  # Remove leading single characters\n",
        "    text = re.sub(r'\\s+', ' ', text, flags=re.I)  # Replace multiple spaces with one\n",
        "    text = re.sub(r'^b\\s+', '', text)  # Remove leading 'b'\n",
        "    text = text.lower()  # Convert text to lowercase\n",
        "    text = text.split()  # Split text into words\n",
        "    text = [lemmatizer.lemmatize(word) for word in text]  # Lemmatize each word\n",
        "    return ' '.join(text)  # Return cleaned and lemmatized text as a single string\n"
      ],
      "metadata": {
        "id": "hv2PgmsPX6Nd"
      },
      "execution_count": 21,
      "outputs": []
    },
    {
      "cell_type": "markdown",
      "source": [
        "###Creating a Custom Text Preprocessing Class (predictors)\n",
        "In machine learning, text data typically needs to be cleaned and preprocessed before it can be used in a model. The predictors class is a custom text preprocessing class that you define to clean and transform your text data.\n",
        "\n",
        "To integrate this preprocessing step into an sklearn pipeline, you can use the TransformerMixin class from sklearn.base. Here's a detailed explanation of the code and its components:\n",
        "\n",
        "###What is TransformerMixin?\n",
        "The TransformerMixin class from the sklearn.base module is a convenient base class for building transformers (custom data transformation steps). It provides the fit() and transform() methods, which are needed to make the class compatible with scikit-learn's pipelines.\n",
        "\n",
        "**fit():** Learns from the data (if necessary). For text preprocessing, it might not need to learn anything, so this method can just return self.\n",
        "**transform():** Transforms the input data. In our case, it will clean the text."
      ],
      "metadata": {
        "id": "Kdkni888rp5T"
      }
    },
    {
      "cell_type": "code",
      "source": [
        "# Custom transformer using spaCy\n",
        "# Basic function to clean the text\n",
        "def clean_text(text):\n",
        "    # Check if text is a string; otherwise, convert to empty string\n",
        "    if not isinstance(text, str):\n",
        "        text = \"\"\n",
        "    # Removing spaces and converting text into lowercase\n",
        "    return text.strip().lower()\n",
        "\n",
        "# Custom transformer using spaCy\n",
        "class predictors(TransformerMixin):\n",
        "    def transform(self, X, **transform_params):\n",
        "        # Cleaning Text\n",
        "        return [clean_text(text) for text in X]\n",
        "\n",
        "    def fit(self, X, y=None, **fit_params):\n",
        "        return self\n",
        "\n",
        "    def get_params(self, deep=True):\n",
        "        return {}\n",
        "\n",
        "# Ensure no NaNs in the dataset\n",
        "X = amazon_data['verified_reviews'].fillna(\"\")  # Replace NaNs with an empty string\n",
        "y = amazon_data['feedback']\n",
        "\n"
      ],
      "metadata": {
        "id": "edJ4Q0OLYsNu"
      },
      "execution_count": 22,
      "outputs": []
    },
    {
      "cell_type": "markdown",
      "source": [
        "**The line of code you provided uses CountVectorizer from scikit-learn to convert text data into a bag-of-words (BoW) model. Here’s a breakdown of the code:**\n",
        "**(1) tokenizer=spacy_tokenizer:** This specifies that you’re using a custom tokenizer (spacy_tokenizer) instead of the default one. spacy_tokenizer is typically a function that uses the spaCy library to tokenize the text, which might provide better tokenization by handling punctuation, stopwords, and other linguistic aspects more efficiently.\n",
        "\n",
        "**(2) ngram_range=(1,1):** This specifies the range of n-grams to use when tokenizing text.\n",
        "\n",
        "ngram_range=(1,1) means unigrams (single words) only. If you set it to (1,2), it would generate both unigrams and bigrams (pairs of consecutive words).\n",
        "In general, n-grams are useful for capturing word combinations, e.g., unigrams are individual words, and bigrams capture pairs like \"good product.\""
      ],
      "metadata": {
        "id": "xmlau8TLUwtM"
      }
    },
    {
      "cell_type": "code",
      "source": [
        "bow_vector = CountVectorizer(tokenizer =  spacy_tokenizer, ngram_range=(1,1))"
      ],
      "metadata": {
        "id": "D8ILZJNDiBVH"
      },
      "execution_count": 23,
      "outputs": []
    },
    {
      "cell_type": "markdown",
      "source": [
        "**The line of code you provided creates a TF-IDF (Term Frequency-Inverse Document Frequency) vectorizer using spaCy as the tokenizer:**\n",
        "Breakdown of the Code:\n",
        "**TfidfVectorizer: **This is a feature extraction method from scikit-learn that converts a collection of text documents into a matrix of TF-IDF features. It helps in converting text data into numerical format, emphasizing important words based on their frequency across documents.\n",
        "\n",
        "**tokenizer=spacy_tokenizer:** This argument allows you to use a custom tokenizer function, in this case, spacy_tokenizer. This means the text will be tokenized using spaCy's advanced tokenization methods, which can handle punctuation, stopwords, lemmatization, and more, as opposed to the default tokenizer provided by TfidfVectorizer.\n",
        "\n",
        "![Screenshot 2024-11-22 164642.png](data:image/png;base64,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)"
      ],
      "metadata": {
        "id": "QoRuPSUCVkC4"
      }
    },
    {
      "cell_type": "code",
      "source": [
        "tfidf_vector = TfidfVectorizer(tokenizer =  spacy_tokenizer)"
      ],
      "metadata": {
        "id": "JczSEKGxUirh"
      },
      "execution_count": 24,
      "outputs": []
    },
    {
      "cell_type": "markdown",
      "source": [
        "## split *dataset* into training and testing"
      ],
      "metadata": {
        "id": "plM-BKvvWe6_"
      }
    },
    {
      "cell_type": "markdown",
      "source": [
        "###Key Points:\n",
        "**(1)train_test_split:**This function is used to randomly split the dataset into training and testing subsets.\n",
        "test_size=0.3 means that 30% of the dataset will be used as the testing set, while 70% will be used for training.\n",
        "\n",
        "**(2)Input Features (X):**\n",
        "The column verified_reviews contains the review text, which you want to analyze.\n",
        "\n",
        "**(3)Target Labels (ylabels):**\n",
        "The column feedback contains the labels (e.g., 0 or 1 for negative/positive feedback).\n",
        "\n",
        "**(4)Resulting Variables:**\n",
        "X_train: The training set for features (text reviews).\n",
        "X_test: The testing set for features (text reviews).\n",
        "y_train: The training set for labels (feedback).\n",
        "y_test: The testing set for labels (feedback).\n",
        "\n",
        "###Additional Notes:\n",
        "**random_state=42**: Ensures that the split is reproducible. Without this, the data split will vary each time you run the code.\n",
        "\n",
        "**Balancing:** If your feedback column has an imbalance (e.g., more positive than negative), consider stratified sampling:"
      ],
      "metadata": {
        "id": "OyX0pOr_W85x"
      }
    },
    {
      "cell_type": "code",
      "source": [
        "from sklearn.model_selection import train_test_split\n",
        "\n",
        "X = amazon_data['verified_reviews'] # the features we want to analyze\n",
        "ylabels = amazon_data['feedback'] # the labels, or answers, we want to test against\n",
        "\n",
        "X_train, X_test, y_train, y_test = train_test_split(X, ylabels, test_size=0.3)"
      ],
      "metadata": {
        "id": "6tqKs-1ZWFvL"
      },
      "execution_count": 69,
      "outputs": []
    },
    {
      "cell_type": "markdown",
      "source": [
        "**(1)-Define the Logistic Regression Model**\n",
        "Create an instance of Logistic Regression.\n",
        "\n",
        "**(2)-Create the Pipeline**\n",
        "Define the pipeline that combines the text preprocessing, TF-IDF vectorization, and logistic regression model:\n",
        "\n",
        "**(3)-Train the Model**\n",
        "Fit the model on your training data (X_train and y_train)\n",
        "\n",
        "\n",
        "\n",
        "###Model Explanation\n",
        "**Text Cleaning (predictors):** Preprocesses the raw text (removes extra spaces, converts to lowercase).\n",
        "\n",
        "**TF-IDF Vectorization (TfidfVectorizer):** Converts text into a numerical matrix based on term frequency and inverse document frequency (TF-IDF).\n",
        "\n",
        "**Logistic Regression Model (LogisticRegression):** Trains on the TF-IDF features to predict labels (positive or negative).\n",
        "\n",
        "\n",
        "###Considerations\n",
        "**Increased Iterations:** max_iter=1000 ensures more iterations for convergence if needed.\n",
        "\n",
        "**Solver Choice:** solver='liblinear' is suitable for smaller datasets.\n",
        "\n",
        "**Tokenizer:** Disabled default tokenizer in TfidfVectorizer since the custom tokenizer (predictors) is being used."
      ],
      "metadata": {
        "id": "O2TgMZz-qD9E"
      }
    },
    {
      "cell_type": "code",
      "source": [
        "# Create pipeline using Bag of Words\n",
        "from sklearn.linear_model import LogisticRegression\n",
        "classifier = LogisticRegression()\n",
        "# Create pipeline using Bag of Words\n",
        "# Increased max_iter and added StandardScaler\n",
        "# Create pipeline using Bag of Words\n",
        "pipe = Pipeline([(\"cleaner\", predictors()),\n",
        "                 ('vectorizer', bow_vector),\n",
        "                 ('classifier', classifier)])\n",
        "\n",
        "\n",
        "# model generation\n",
        "pipe.fit(X_train,y_train)"
      ],
      "metadata": {
        "colab": {
          "base_uri": "https://localhost:8080/",
          "height": 355
        },
        "id": "kD9f51ckdAb3",
        "outputId": "6116b71c-89ef-4392-9956-738efac32f86"
      },
      "execution_count": 54,
      "outputs": [
        {
          "output_type": "stream",
          "name": "stderr",
          "text": [
            "/usr/local/lib/python3.10/dist-packages/sklearn/feature_extraction/text.py:521: UserWarning: The parameter 'token_pattern' will not be used since 'tokenizer' is not None'\n",
            "  warnings.warn(\n",
            "/usr/local/lib/python3.10/dist-packages/sklearn/linear_model/_logistic.py:469: ConvergenceWarning: lbfgs failed to converge (status=1):\n",
            "STOP: TOTAL NO. of ITERATIONS REACHED LIMIT.\n",
            "\n",
            "Increase the number of iterations (max_iter) or scale the data as shown in:\n",
            "    https://scikit-learn.org/stable/modules/preprocessing.html\n",
            "Please also refer to the documentation for alternative solver options:\n",
            "    https://scikit-learn.org/stable/modules/linear_model.html#logistic-regression\n",
            "  n_iter_i = _check_optimize_result(\n"
          ]
        },
        {
          "output_type": "execute_result",
          "data": {
            "text/plain": [
              "Pipeline(steps=[('cleaner', <__main__.predictors object at 0x7ac5c2a7de40>),\n",
              "                ('vectorizer',\n",
              "                 CountVectorizer(tokenizer=<function spacy_tokenizer at 0x7ac6690e6b90>)),\n",
              "                ('classifier', LogisticRegression())])"
            ],
            "text/html": [
              "<style>#sk-container-id-8 {\n",
              "  /* Definition of color scheme common for light and dark mode */\n",
              "  --sklearn-color-text: black;\n",
              "  --sklearn-color-line: gray;\n",
              "  /* Definition of color scheme for unfitted estimators */\n",
              "  --sklearn-color-unfitted-level-0: #fff5e6;\n",
              "  --sklearn-color-unfitted-level-1: #f6e4d2;\n",
              "  --sklearn-color-unfitted-level-2: #ffe0b3;\n",
              "  --sklearn-color-unfitted-level-3: chocolate;\n",
              "  /* Definition of color scheme for fitted estimators */\n",
              "  --sklearn-color-fitted-level-0: #f0f8ff;\n",
              "  --sklearn-color-fitted-level-1: #d4ebff;\n",
              "  --sklearn-color-fitted-level-2: #b3dbfd;\n",
              "  --sklearn-color-fitted-level-3: cornflowerblue;\n",
              "\n",
              "  /* Specific color for light theme */\n",
              "  --sklearn-color-text-on-default-background: var(--sg-text-color, var(--theme-code-foreground, var(--jp-content-font-color1, black)));\n",
              "  --sklearn-color-background: var(--sg-background-color, var(--theme-background, var(--jp-layout-color0, white)));\n",
              "  --sklearn-color-border-box: var(--sg-text-color, var(--theme-code-foreground, var(--jp-content-font-color1, black)));\n",
              "  --sklearn-color-icon: #696969;\n",
              "\n",
              "  @media (prefers-color-scheme: dark) {\n",
              "    /* Redefinition of color scheme for dark theme */\n",
              "    --sklearn-color-text-on-default-background: var(--sg-text-color, var(--theme-code-foreground, var(--jp-content-font-color1, white)));\n",
              "    --sklearn-color-background: var(--sg-background-color, var(--theme-background, var(--jp-layout-color0, #111)));\n",
              "    --sklearn-color-border-box: var(--sg-text-color, var(--theme-code-foreground, var(--jp-content-font-color1, white)));\n",
              "    --sklearn-color-icon: #878787;\n",
              "  }\n",
              "}\n",
              "\n",
              "#sk-container-id-8 {\n",
              "  color: var(--sklearn-color-text);\n",
              "}\n",
              "\n",
              "#sk-container-id-8 pre {\n",
              "  padding: 0;\n",
              "}\n",
              "\n",
              "#sk-container-id-8 input.sk-hidden--visually {\n",
              "  border: 0;\n",
              "  clip: rect(1px 1px 1px 1px);\n",
              "  clip: rect(1px, 1px, 1px, 1px);\n",
              "  height: 1px;\n",
              "  margin: -1px;\n",
              "  overflow: hidden;\n",
              "  padding: 0;\n",
              "  position: absolute;\n",
              "  width: 1px;\n",
              "}\n",
              "\n",
              "#sk-container-id-8 div.sk-dashed-wrapped {\n",
              "  border: 1px dashed var(--sklearn-color-line);\n",
              "  margin: 0 0.4em 0.5em 0.4em;\n",
              "  box-sizing: border-box;\n",
              "  padding-bottom: 0.4em;\n",
              "  background-color: var(--sklearn-color-background);\n",
              "}\n",
              "\n",
              "#sk-container-id-8 div.sk-container {\n",
              "  /* jupyter's `normalize.less` sets `[hidden] { display: none; }`\n",
              "     but bootstrap.min.css set `[hidden] { display: none !important; }`\n",
              "     so we also need the `!important` here to be able to override the\n",
              "     default hidden behavior on the sphinx rendered scikit-learn.org.\n",
              "     See: https://github.com/scikit-learn/scikit-learn/issues/21755 */\n",
              "  display: inline-block !important;\n",
              "  position: relative;\n",
              "}\n",
              "\n",
              "#sk-container-id-8 div.sk-text-repr-fallback {\n",
              "  display: none;\n",
              "}\n",
              "\n",
              "div.sk-parallel-item,\n",
              "div.sk-serial,\n",
              "div.sk-item {\n",
              "  /* draw centered vertical line to link estimators */\n",
              "  background-image: linear-gradient(var(--sklearn-color-text-on-default-background), var(--sklearn-color-text-on-default-background));\n",
              "  background-size: 2px 100%;\n",
              "  background-repeat: no-repeat;\n",
              "  background-position: center center;\n",
              "}\n",
              "\n",
              "/* Parallel-specific style estimator block */\n",
              "\n",
              "#sk-container-id-8 div.sk-parallel-item::after {\n",
              "  content: \"\";\n",
              "  width: 100%;\n",
              "  border-bottom: 2px solid var(--sklearn-color-text-on-default-background);\n",
              "  flex-grow: 1;\n",
              "}\n",
              "\n",
              "#sk-container-id-8 div.sk-parallel {\n",
              "  display: flex;\n",
              "  align-items: stretch;\n",
              "  justify-content: center;\n",
              "  background-color: var(--sklearn-color-background);\n",
              "  position: relative;\n",
              "}\n",
              "\n",
              "#sk-container-id-8 div.sk-parallel-item {\n",
              "  display: flex;\n",
              "  flex-direction: column;\n",
              "}\n",
              "\n",
              "#sk-container-id-8 div.sk-parallel-item:first-child::after {\n",
              "  align-self: flex-end;\n",
              "  width: 50%;\n",
              "}\n",
              "\n",
              "#sk-container-id-8 div.sk-parallel-item:last-child::after {\n",
              "  align-self: flex-start;\n",
              "  width: 50%;\n",
              "}\n",
              "\n",
              "#sk-container-id-8 div.sk-parallel-item:only-child::after {\n",
              "  width: 0;\n",
              "}\n",
              "\n",
              "/* Serial-specific style estimator block */\n",
              "\n",
              "#sk-container-id-8 div.sk-serial {\n",
              "  display: flex;\n",
              "  flex-direction: column;\n",
              "  align-items: center;\n",
              "  background-color: var(--sklearn-color-background);\n",
              "  padding-right: 1em;\n",
              "  padding-left: 1em;\n",
              "}\n",
              "\n",
              "\n",
              "/* Toggleable style: style used for estimator/Pipeline/ColumnTransformer box that is\n",
              "clickable and can be expanded/collapsed.\n",
              "- Pipeline and ColumnTransformer use this feature and define the default style\n",
              "- Estimators will overwrite some part of the style using the `sk-estimator` class\n",
              "*/\n",
              "\n",
              "/* Pipeline and ColumnTransformer style (default) */\n",
              "\n",
              "#sk-container-id-8 div.sk-toggleable {\n",
              "  /* Default theme specific background. It is overwritten whether we have a\n",
              "  specific estimator or a Pipeline/ColumnTransformer */\n",
              "  background-color: var(--sklearn-color-background);\n",
              "}\n",
              "\n",
              "/* Toggleable label */\n",
              "#sk-container-id-8 label.sk-toggleable__label {\n",
              "  cursor: pointer;\n",
              "  display: block;\n",
              "  width: 100%;\n",
              "  margin-bottom: 0;\n",
              "  padding: 0.5em;\n",
              "  box-sizing: border-box;\n",
              "  text-align: center;\n",
              "}\n",
              "\n",
              "#sk-container-id-8 label.sk-toggleable__label-arrow:before {\n",
              "  /* Arrow on the left of the label */\n",
              "  content: \"▸\";\n",
              "  float: left;\n",
              "  margin-right: 0.25em;\n",
              "  color: var(--sklearn-color-icon);\n",
              "}\n",
              "\n",
              "#sk-container-id-8 label.sk-toggleable__label-arrow:hover:before {\n",
              "  color: var(--sklearn-color-text);\n",
              "}\n",
              "\n",
              "/* Toggleable content - dropdown */\n",
              "\n",
              "#sk-container-id-8 div.sk-toggleable__content {\n",
              "  max-height: 0;\n",
              "  max-width: 0;\n",
              "  overflow: hidden;\n",
              "  text-align: left;\n",
              "  /* unfitted */\n",
              "  background-color: var(--sklearn-color-unfitted-level-0);\n",
              "}\n",
              "\n",
              "#sk-container-id-8 div.sk-toggleable__content.fitted {\n",
              "  /* fitted */\n",
              "  background-color: var(--sklearn-color-fitted-level-0);\n",
              "}\n",
              "\n",
              "#sk-container-id-8 div.sk-toggleable__content pre {\n",
              "  margin: 0.2em;\n",
              "  border-radius: 0.25em;\n",
              "  color: var(--sklearn-color-text);\n",
              "  /* unfitted */\n",
              "  background-color: var(--sklearn-color-unfitted-level-0);\n",
              "}\n",
              "\n",
              "#sk-container-id-8 div.sk-toggleable__content.fitted pre {\n",
              "  /* unfitted */\n",
              "  background-color: var(--sklearn-color-fitted-level-0);\n",
              "}\n",
              "\n",
              "#sk-container-id-8 input.sk-toggleable__control:checked~div.sk-toggleable__content {\n",
              "  /* Expand drop-down */\n",
              "  max-height: 200px;\n",
              "  max-width: 100%;\n",
              "  overflow: auto;\n",
              "}\n",
              "\n",
              "#sk-container-id-8 input.sk-toggleable__control:checked~label.sk-toggleable__label-arrow:before {\n",
              "  content: \"▾\";\n",
              "}\n",
              "\n",
              "/* Pipeline/ColumnTransformer-specific style */\n",
              "\n",
              "#sk-container-id-8 div.sk-label input.sk-toggleable__control:checked~label.sk-toggleable__label {\n",
              "  color: var(--sklearn-color-text);\n",
              "  background-color: var(--sklearn-color-unfitted-level-2);\n",
              "}\n",
              "\n",
              "#sk-container-id-8 div.sk-label.fitted input.sk-toggleable__control:checked~label.sk-toggleable__label {\n",
              "  background-color: var(--sklearn-color-fitted-level-2);\n",
              "}\n",
              "\n",
              "/* Estimator-specific style */\n",
              "\n",
              "/* Colorize estimator box */\n",
              "#sk-container-id-8 div.sk-estimator input.sk-toggleable__control:checked~label.sk-toggleable__label {\n",
              "  /* unfitted */\n",
              "  background-color: var(--sklearn-color-unfitted-level-2);\n",
              "}\n",
              "\n",
              "#sk-container-id-8 div.sk-estimator.fitted input.sk-toggleable__control:checked~label.sk-toggleable__label {\n",
              "  /* fitted */\n",
              "  background-color: var(--sklearn-color-fitted-level-2);\n",
              "}\n",
              "\n",
              "#sk-container-id-8 div.sk-label label.sk-toggleable__label,\n",
              "#sk-container-id-8 div.sk-label label {\n",
              "  /* The background is the default theme color */\n",
              "  color: var(--sklearn-color-text-on-default-background);\n",
              "}\n",
              "\n",
              "/* On hover, darken the color of the background */\n",
              "#sk-container-id-8 div.sk-label:hover label.sk-toggleable__label {\n",
              "  color: var(--sklearn-color-text);\n",
              "  background-color: var(--sklearn-color-unfitted-level-2);\n",
              "}\n",
              "\n",
              "/* Label box, darken color on hover, fitted */\n",
              "#sk-container-id-8 div.sk-label.fitted:hover label.sk-toggleable__label.fitted {\n",
              "  color: var(--sklearn-color-text);\n",
              "  background-color: var(--sklearn-color-fitted-level-2);\n",
              "}\n",
              "\n",
              "/* Estimator label */\n",
              "\n",
              "#sk-container-id-8 div.sk-label label {\n",
              "  font-family: monospace;\n",
              "  font-weight: bold;\n",
              "  display: inline-block;\n",
              "  line-height: 1.2em;\n",
              "}\n",
              "\n",
              "#sk-container-id-8 div.sk-label-container {\n",
              "  text-align: center;\n",
              "}\n",
              "\n",
              "/* Estimator-specific */\n",
              "#sk-container-id-8 div.sk-estimator {\n",
              "  font-family: monospace;\n",
              "  border: 1px dotted var(--sklearn-color-border-box);\n",
              "  border-radius: 0.25em;\n",
              "  box-sizing: border-box;\n",
              "  margin-bottom: 0.5em;\n",
              "  /* unfitted */\n",
              "  background-color: var(--sklearn-color-unfitted-level-0);\n",
              "}\n",
              "\n",
              "#sk-container-id-8 div.sk-estimator.fitted {\n",
              "  /* fitted */\n",
              "  background-color: var(--sklearn-color-fitted-level-0);\n",
              "}\n",
              "\n",
              "/* on hover */\n",
              "#sk-container-id-8 div.sk-estimator:hover {\n",
              "  /* unfitted */\n",
              "  background-color: var(--sklearn-color-unfitted-level-2);\n",
              "}\n",
              "\n",
              "#sk-container-id-8 div.sk-estimator.fitted:hover {\n",
              "  /* fitted */\n",
              "  background-color: var(--sklearn-color-fitted-level-2);\n",
              "}\n",
              "\n",
              "/* Specification for estimator info (e.g. \"i\" and \"?\") */\n",
              "\n",
              "/* Common style for \"i\" and \"?\" */\n",
              "\n",
              ".sk-estimator-doc-link,\n",
              "a:link.sk-estimator-doc-link,\n",
              "a:visited.sk-estimator-doc-link {\n",
              "  float: right;\n",
              "  font-size: smaller;\n",
              "  line-height: 1em;\n",
              "  font-family: monospace;\n",
              "  background-color: var(--sklearn-color-background);\n",
              "  border-radius: 1em;\n",
              "  height: 1em;\n",
              "  width: 1em;\n",
              "  text-decoration: none !important;\n",
              "  margin-left: 1ex;\n",
              "  /* unfitted */\n",
              "  border: var(--sklearn-color-unfitted-level-1) 1pt solid;\n",
              "  color: var(--sklearn-color-unfitted-level-1);\n",
              "}\n",
              "\n",
              ".sk-estimator-doc-link.fitted,\n",
              "a:link.sk-estimator-doc-link.fitted,\n",
              "a:visited.sk-estimator-doc-link.fitted {\n",
              "  /* fitted */\n",
              "  border: var(--sklearn-color-fitted-level-1) 1pt solid;\n",
              "  color: var(--sklearn-color-fitted-level-1);\n",
              "}\n",
              "\n",
              "/* On hover */\n",
              "div.sk-estimator:hover .sk-estimator-doc-link:hover,\n",
              ".sk-estimator-doc-link:hover,\n",
              "div.sk-label-container:hover .sk-estimator-doc-link:hover,\n",
              ".sk-estimator-doc-link:hover {\n",
              "  /* unfitted */\n",
              "  background-color: var(--sklearn-color-unfitted-level-3);\n",
              "  color: var(--sklearn-color-background);\n",
              "  text-decoration: none;\n",
              "}\n",
              "\n",
              "div.sk-estimator.fitted:hover .sk-estimator-doc-link.fitted:hover,\n",
              ".sk-estimator-doc-link.fitted:hover,\n",
              "div.sk-label-container:hover .sk-estimator-doc-link.fitted:hover,\n",
              ".sk-estimator-doc-link.fitted:hover {\n",
              "  /* fitted */\n",
              "  background-color: var(--sklearn-color-fitted-level-3);\n",
              "  color: var(--sklearn-color-background);\n",
              "  text-decoration: none;\n",
              "}\n",
              "\n",
              "/* Span, style for the box shown on hovering the info icon */\n",
              ".sk-estimator-doc-link span {\n",
              "  display: none;\n",
              "  z-index: 9999;\n",
              "  position: relative;\n",
              "  font-weight: normal;\n",
              "  right: .2ex;\n",
              "  padding: .5ex;\n",
              "  margin: .5ex;\n",
              "  width: min-content;\n",
              "  min-width: 20ex;\n",
              "  max-width: 50ex;\n",
              "  color: var(--sklearn-color-text);\n",
              "  box-shadow: 2pt 2pt 4pt #999;\n",
              "  /* unfitted */\n",
              "  background: var(--sklearn-color-unfitted-level-0);\n",
              "  border: .5pt solid var(--sklearn-color-unfitted-level-3);\n",
              "}\n",
              "\n",
              ".sk-estimator-doc-link.fitted span {\n",
              "  /* fitted */\n",
              "  background: var(--sklearn-color-fitted-level-0);\n",
              "  border: var(--sklearn-color-fitted-level-3);\n",
              "}\n",
              "\n",
              ".sk-estimator-doc-link:hover span {\n",
              "  display: block;\n",
              "}\n",
              "\n",
              "/* \"?\"-specific style due to the `<a>` HTML tag */\n",
              "\n",
              "#sk-container-id-8 a.estimator_doc_link {\n",
              "  float: right;\n",
              "  font-size: 1rem;\n",
              "  line-height: 1em;\n",
              "  font-family: monospace;\n",
              "  background-color: var(--sklearn-color-background);\n",
              "  border-radius: 1rem;\n",
              "  height: 1rem;\n",
              "  width: 1rem;\n",
              "  text-decoration: none;\n",
              "  /* unfitted */\n",
              "  color: var(--sklearn-color-unfitted-level-1);\n",
              "  border: var(--sklearn-color-unfitted-level-1) 1pt solid;\n",
              "}\n",
              "\n",
              "#sk-container-id-8 a.estimator_doc_link.fitted {\n",
              "  /* fitted */\n",
              "  border: var(--sklearn-color-fitted-level-1) 1pt solid;\n",
              "  color: var(--sklearn-color-fitted-level-1);\n",
              "}\n",
              "\n",
              "/* On hover */\n",
              "#sk-container-id-8 a.estimator_doc_link:hover {\n",
              "  /* unfitted */\n",
              "  background-color: var(--sklearn-color-unfitted-level-3);\n",
              "  color: var(--sklearn-color-background);\n",
              "  text-decoration: none;\n",
              "}\n",
              "\n",
              "#sk-container-id-8 a.estimator_doc_link.fitted:hover {\n",
              "  /* fitted */\n",
              "  background-color: var(--sklearn-color-fitted-level-3);\n",
              "}\n",
              "</style><div id=\"sk-container-id-8\" class=\"sk-top-container\"><div class=\"sk-text-repr-fallback\"><pre>Pipeline(steps=[(&#x27;cleaner&#x27;, &lt;__main__.predictors object at 0x7ac5c2a7de40&gt;),\n",
              "                (&#x27;vectorizer&#x27;,\n",
              "                 CountVectorizer(tokenizer=&lt;function spacy_tokenizer at 0x7ac6690e6b90&gt;)),\n",
              "                (&#x27;classifier&#x27;, LogisticRegression())])</pre><b>In a Jupyter environment, please rerun this cell to show the HTML representation or trust the notebook. <br />On GitHub, the HTML representation is unable to render, please try loading this page with nbviewer.org.</b></div><div class=\"sk-container\" hidden><div class=\"sk-item sk-dashed-wrapped\"><div class=\"sk-label-container\"><div class=\"sk-label fitted sk-toggleable\"><input class=\"sk-toggleable__control sk-hidden--visually\" id=\"sk-estimator-id-29\" type=\"checkbox\" ><label for=\"sk-estimator-id-29\" class=\"sk-toggleable__label fitted sk-toggleable__label-arrow fitted\">&nbsp;&nbsp;Pipeline<a class=\"sk-estimator-doc-link fitted\" rel=\"noreferrer\" target=\"_blank\" href=\"https://scikit-learn.org/1.5/modules/generated/sklearn.pipeline.Pipeline.html\">?<span>Documentation for Pipeline</span></a><span class=\"sk-estimator-doc-link fitted\">i<span>Fitted</span></span></label><div class=\"sk-toggleable__content fitted\"><pre>Pipeline(steps=[(&#x27;cleaner&#x27;, &lt;__main__.predictors object at 0x7ac5c2a7de40&gt;),\n",
              "                (&#x27;vectorizer&#x27;,\n",
              "                 CountVectorizer(tokenizer=&lt;function spacy_tokenizer at 0x7ac6690e6b90&gt;)),\n",
              "                (&#x27;classifier&#x27;, LogisticRegression())])</pre></div> </div></div><div class=\"sk-serial\"><div class=\"sk-item\"><div class=\"sk-estimator fitted sk-toggleable\"><input class=\"sk-toggleable__control sk-hidden--visually\" id=\"sk-estimator-id-30\" type=\"checkbox\" ><label for=\"sk-estimator-id-30\" class=\"sk-toggleable__label fitted sk-toggleable__label-arrow fitted\">predictors</label><div class=\"sk-toggleable__content fitted\"><pre>&lt;__main__.predictors object at 0x7ac5c2a7de40&gt;</pre></div> </div></div><div class=\"sk-item\"><div class=\"sk-estimator fitted sk-toggleable\"><input class=\"sk-toggleable__control sk-hidden--visually\" id=\"sk-estimator-id-31\" type=\"checkbox\" ><label for=\"sk-estimator-id-31\" class=\"sk-toggleable__label fitted sk-toggleable__label-arrow fitted\">&nbsp;CountVectorizer<a class=\"sk-estimator-doc-link fitted\" rel=\"noreferrer\" target=\"_blank\" href=\"https://scikit-learn.org/1.5/modules/generated/sklearn.feature_extraction.text.CountVectorizer.html\">?<span>Documentation for CountVectorizer</span></a></label><div class=\"sk-toggleable__content fitted\"><pre>CountVectorizer(tokenizer=&lt;function spacy_tokenizer at 0x7ac6690e6b90&gt;)</pre></div> </div></div><div class=\"sk-item\"><div class=\"sk-estimator fitted sk-toggleable\"><input class=\"sk-toggleable__control sk-hidden--visually\" id=\"sk-estimator-id-32\" type=\"checkbox\" ><label for=\"sk-estimator-id-32\" class=\"sk-toggleable__label fitted sk-toggleable__label-arrow fitted\">&nbsp;LogisticRegression<a class=\"sk-estimator-doc-link fitted\" rel=\"noreferrer\" target=\"_blank\" href=\"https://scikit-learn.org/1.5/modules/generated/sklearn.linear_model.LogisticRegression.html\">?<span>Documentation for LogisticRegression</span></a></label><div class=\"sk-toggleable__content fitted\"><pre>LogisticRegression()</pre></div> </div></div></div></div></div></div>"
            ]
          },
          "metadata": {},
          "execution_count": 54
        }
      ]
    },
    {
      "cell_type": "markdown",
      "source": [
        "**Use pipe.predict()** to make predictions on new data.\n",
        "Evaluate the model using appropriate metrics like accuracy, precision, recall, etc.\n"
      ],
      "metadata": {
        "id": "3U9hXfacrPiS"
      }
    },
    {
      "cell_type": "code",
      "source": [
        "from sklearn import metrics\n",
        "# Predicting with a test dataset\n",
        "predicted = pipe.predict(X_test)\n",
        "\n",
        "# Model Accuracy\n",
        "print(\"Logistic Regression Accuracy:\",metrics.accuracy_score(y_test, predicted))\n",
        "print(\"Logistic Regression Precision:\",metrics.precision_score(y_test, predicted))\n",
        "print(\"Logistic Regression Recall:\",metrics.recall_score(y_test, predicted))"
      ],
      "metadata": {
        "colab": {
          "base_uri": "https://localhost:8080/"
        },
        "id": "MhuxgJnGoarK",
        "outputId": "9019d689-0306-4668-d59f-bf7ac5dcded6"
      },
      "execution_count": 55,
      "outputs": [
        {
          "output_type": "stream",
          "name": "stdout",
          "text": [
            "Logistic Regression Accuracy: 0.9174603174603174\n",
            "Logistic Regression Precision: 0.9267241379310345\n",
            "Logistic Regression Recall: 0.9885057471264368\n"
          ]
        }
      ]
    },
    {
      "cell_type": "code",
      "source": [],
      "metadata": {
        "id": "ka99Ofk2z1hN"
      },
      "execution_count": null,
      "outputs": []
    }
  ]
}